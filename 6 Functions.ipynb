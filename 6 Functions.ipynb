{
  "metadata": {
    "kernelspec": {
      "name": "python",
      "display_name": "Python (Pyodide)",
      "language": "python"
    },
    "language_info": {
      "codemirror_mode": {
        "name": "python",
        "version": 3
      },
      "file_extension": ".py",
      "mimetype": "text/x-python",
      "name": "python",
      "nbconvert_exporter": "python",
      "pygments_lexer": "ipython3",
      "version": "3.8"
    }
  },
  "nbformat_minor": 4,
  "nbformat": 4,
  "cells": [
    {
      "cell_type": "code",
      "source": "# function basic\n\n# defining function\n# def keyword is used to define function\n# function name is msg\n\n\n# def FunctionName():\n#     output\n#     print...\n\n\ndef msg():\n    print(\"welcome to codeswithpankaj.com\")\n\n\n\n# calling function \n\nmsg()",
      "metadata": {
        "trusted": true
      },
      "outputs": [
        {
          "name": "stdout",
          "text": "welcome to codeswithpankaj.com\n",
          "output_type": "stream"
        }
      ],
      "execution_count": 1
    },
    {
      "cell_type": "code",
      "source": "# function with arguments / peramiters\n\n# example \n# def FunctionName(Peramiters):\n#     output\n\n\n# def functionname(variable1, variable2):\n#     output\n\n\ndef add(a,b):\n    c = a+b\n    print(\"result : \",c)",
      "metadata": {
        "trusted": true
      },
      "outputs": [],
      "execution_count": 3
    },
    {
      "cell_type": "code",
      "source": "# calling function\n\nadd(10,20)\nadd(10,30)",
      "metadata": {
        "trusted": true
      },
      "outputs": [
        {
          "name": "stdout",
          "text": "result :  30\nresult :  40\n",
          "output_type": "stream"
        }
      ],
      "execution_count": 4
    },
    {
      "cell_type": "code",
      "source": "# example 2\n\n\n\ndef bill(price,gst):\n    gst_amount = price * gst / 100  # calculating gst amount\n    total = price + gst_amount  # calculating total amount\n    \n    print(\"price : \",price)\n    print(\"gst : \",gst)\n    print(\"gst amount : \",gst_amount)\n    print(\"total : \",total)\n    print(\"----------------------\")",
      "metadata": {
        "trusted": true
      },
      "outputs": [],
      "execution_count": 5
    },
    {
      "cell_type": "code",
      "source": "bill(1200,18)\nbill(3400,9)\nbill(1000,2)",
      "metadata": {
        "trusted": true
      },
      "outputs": [
        {
          "name": "stdout",
          "text": "price :  1200\ngst :  18\ngst amount :  216.0\ntotal :  1416.0\n----------------------\nprice :  3400\ngst :  9\ngst amount :  306.0\ntotal :  3706.0\n----------------------\nprice :  1000\ngst :  2\ngst amount :  20.0\ntotal :  1020.0\n----------------------\n",
          "output_type": "stream"
        }
      ],
      "execution_count": 6
    },
    {
      "cell_type": "code",
      "source": "def bill(price, gst, quantity):\n    gst_amount = price * gst / 100  # calculating GST amount for one product\n    total_price_per_unit = price + gst_amount  # total price for one product\n    total_gst = gst_amount * quantity  # GST for all products\n    total = total_price_per_unit * quantity  # total amount for all products\n    \n    print(\"Price per unit:\", price)\n    print(\"GST:\", gst, \"%\")\n    print(\"Quantity:\", quantity)\n    print(\"GST amount per unit:\", gst_amount)\n    print(\"Total GST for all units:\", total_gst)\n    print(\"Total amount:\", total)\n    print(\"----------------------\")",
      "metadata": {
        "trusted": true
      },
      "outputs": [],
      "execution_count": 11
    },
    {
      "cell_type": "code",
      "source": "bill(100, 18, 5)  # Example with price=100, gst=18%, and quantity=5\nbill(100, 18, 1)  # Price=100, GST=18%, Quantity=1\nbill(200, 5, 10)  # Price=200, GST=5%, Quantity=10\nbill(5000, 28, 3)  # Price=5000, GST=28%, Quantity=3",
      "metadata": {
        "trusted": true
      },
      "outputs": [
        {
          "name": "stdout",
          "text": "Price per unit: 100\nGST: 18 %\nQuantity: 5\nGST amount per unit: 18.0\nTotal GST for all units: 90.0\nTotal amount: 590.0\n----------------------\nPrice per unit: 100\nGST: 18 %\nQuantity: 1\nGST amount per unit: 18.0\nTotal GST for all units: 18.0\nTotal amount: 118.0\n----------------------\nPrice per unit: 200\nGST: 5 %\nQuantity: 10\nGST amount per unit: 10.0\nTotal GST for all units: 100.0\nTotal amount: 2100.0\n----------------------\nPrice per unit: 5000\nGST: 28 %\nQuantity: 3\nGST amount per unit: 1400.0\nTotal GST for all units: 4200.0\nTotal amount: 19200.0\n----------------------\n",
          "output_type": "stream"
        }
      ],
      "execution_count": 12
    }
  ]
}