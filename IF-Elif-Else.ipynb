{
  "metadata": {
    "kernelspec": {
      "name": "python",
      "display_name": "Python (Pyodide)",
      "language": "python"
    },
    "language_info": {
      "codemirror_mode": {
        "name": "python",
        "version": 3
      },
      "file_extension": ".py",
      "mimetype": "text/x-python",
      "name": "python",
      "nbconvert_exporter": "python",
      "pygments_lexer": "ipython3",
      "version": "3.8"
    }
  },
  "nbformat_minor": 4,
  "nbformat": 4,
  "cells": [
    {
      "cell_type": "code",
      "source": "# IF - Elif - Else Condition\n\nif condition1:\n    # block of code to be executed if condition1 is true\nelif condition2:\n    # block of code to be executed if condition2 is true\nelse: condition3:\n    # block of code to be executed if none of the above conditions are true",
      "metadata": {
        "trusted": true
      },
      "outputs": [],
      "execution_count": null
    },
    {
      "cell_type": "code",
      "source": "n1 = 10\nn2 = 4\nn3 = 16\nn4 = 1\n\nif n1 < n2 and n1 < n3 and n1 < n4 :\n    print(\"n1 is smallest\")\nelif n2 < n1 and n2 < n3 and n2 < n4 :\n    print(\"n2 is smallest\")\nelif n3 < n1 and n3 < n2 and n3 < n4 :\n    print(\"n3 is smallest\")\nelse:\n    print(\"n4 is smallest\")",
      "metadata": {
        "trusted": true
      },
      "outputs": [
        {
          "name": "stdout",
          "text": "n4 is smallest\n",
          "output_type": "stream"
        }
      ],
      "execution_count": 1
    },
    {
      "cell_type": "code",
      "source": "a = 10\nb = 7\n\nif a % 2 == 0 :\n    print(\"a is even\")\nelse:\n    print(\"a is odd\")\n\nif b % 2 ==0 :\n    print(\"b is even\")\nelse:\n    print(\"b is odd\")",
      "metadata": {
        "trusted": true
      },
      "outputs": [
        {
          "name": "stdout",
          "text": "a is even\nb is odd\n",
          "output_type": "stream"
        }
      ],
      "execution_count": 2
    },
    {
      "cell_type": "code",
      "source": "Science = 80\nEnglish = 80\nMaths = 75\nMarathi = 35\nHindi = 20\n\ntotal = Science+English+Maths+Marathi+Hindi\nprint(\"Total Marks is = \",total)\n\nper = (total*100/500)\nprint(\"per = \",per)\n\nif per < 100 and per > 95:\n    print(\"Grade : A+\")\nelif per < 94 and per > 90:\n    print(\"Grade : A\")\nelif per < 89 and per > 80:\n    print(\"Grade : B\")\nelif per < 79 and per > 70:\n    print(\"Grade : C\")\nelif per < 69 and per > 60:\n    print(\"Grade : D\")\nelif per < 59 and per > 50:\n    print(\"Grade : E\")",
      "metadata": {
        "trusted": true
      },
      "outputs": [
        {
          "name": "stdout",
          "text": "Total Marks is =  290\nper =  58.0\nGrade : E\n",
          "output_type": "stream"
        }
      ],
      "execution_count": 4
    }
  ]
}