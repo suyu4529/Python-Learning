{
  "metadata": {
    "kernelspec": {
      "name": "python",
      "display_name": "Python (Pyodide)",
      "language": "python"
    },
    "language_info": {
      "codemirror_mode": {
        "name": "python",
        "version": 3
      },
      "file_extension": ".py",
      "mimetype": "text/x-python",
      "name": "python",
      "nbconvert_exporter": "python",
      "pygments_lexer": "ipython3",
      "version": "3.8"
    }
  },
  "nbformat_minor": 4,
  "nbformat": 4,
  "cells": [
    {
      "cell_type": "code",
      "source": "# Variable Assignment\n\nname = \"John Doe\"\nage = 25\nheight = 5.9\n\nprint(name)\nprint(age)\nprint(height)",
      "metadata": {
        "trusted": true
      },
      "outputs": [
        {
          "name": "stdout",
          "text": "John Doe\n25\n5.9\n",
          "output_type": "stream"
        }
      ],
      "execution_count": 1
    },
    {
      "cell_type": "code",
      "source": "name = 'Nishant'\nage = 12\nheight = 3.4\n\nprint('My Name is : ',name)\nprint('My age is : ',age)\nprint('My Height is : ',height)",
      "metadata": {
        "trusted": true
      },
      "outputs": [
        {
          "name": "stdout",
          "text": "My Name is :  Nishant\nMy age is :  12\nMy Height is :  3.4\n",
          "output_type": "stream"
        }
      ],
      "execution_count": 5
    },
    {
      "cell_type": "code",
      "source": "# Variable Data Types\n\n# - int: Integer numbers (e.g., 42, -10).\n# - float: Floating-point numbers (e.g., 3.14, -0.5).\n# - str: Strings (e.g., \"Hello, World!\", 'Python').\n# - bool: Boolean values (True or False).\n# - list, tuple, set, dict`: Data structures to store multiple values.\n# datatype\n# using type()\n\na = 10\nprint(type(a))\na = 'p4n'\nprint(type(a))\na = 1.7\nprint(type(a))\na = 10,78,34\nprint(type(a))\na = (10,)\nprint(type(a))\na = (10,67)\nprint(type(a))\na = [10,67,55,34]\nprint(type(a))\na = {5,43,3,10}\nprint(type(a))\na = {'name':'joy'}\nprint(type(a))",
      "metadata": {
        "trusted": true
      },
      "outputs": [
        {
          "name": "stdout",
          "text": "<class 'int'>\n<class 'str'>\n<class 'float'>\n<class 'tuple'>\n<class 'tuple'>\n<class 'tuple'>\n<class 'list'>\n<class 'set'>\n<class 'dict'>\n",
          "output_type": "stream"
        }
      ],
      "execution_count": 7
    }
  ]
}
