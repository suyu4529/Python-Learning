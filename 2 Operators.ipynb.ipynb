{
  "metadata": {
    "kernelspec": {
      "name": "python",
      "display_name": "Python (Pyodide)",
      "language": "python"
    },
    "language_info": {
      "codemirror_mode": {
        "name": "python",
        "version": 3
      },
      "file_extension": ".py",
      "mimetype": "text/x-python",
      "name": "python",
      "nbconvert_exporter": "python",
      "pygments_lexer": "ipython3",
      "version": "3.8"
    }
  },
  "nbformat_minor": 4,
  "nbformat": 4,
  "cells": [
    {
      "cell_type": "code",
      "source": "# Arithmetic Operators\nList of Arithmetic Operators\nOperator\t Description\t  Example\n+\t         Addition\t      a + b\n-\t         Subtraction\t  a - b\n*\t         Multiplication\t  a * b\n/\t         Division\t      a / b \n%\t         Modulus\t      a % b  (a is the dividend % b is the divisor and the \"Output\" is the Remainder)\n**\t         Exponentiation\t  a ** b (a is the number to be raised ** b is the power to which the base is raised)\n//\t         Floor Division\t  a // b (a is the dividend // b is the divisor and the \"Output\" is the Quotient)",
      "metadata": {
        "trusted": true
      },
      "outputs": [],
      "execution_count": null
    },
    {
      "cell_type": "code",
      "source": "# Addition\na = 10\nb = 5\nresult = a + b\nprint(result)\n\n# Subtraction\nresult = a - b\nprint(result)\n\n# Multiplication\nresult = a * b\nprint(result)\n\n# Division\nresult = a / b\nprint(result)\n\n# Modulus\nresult = a % b\nprint(result)\n\n# Exponentiation\nresult = a ** b\nprint(result)\n\n# Floor Division\nresult = a // b\nprint(result)",
      "metadata": {
        "trusted": true
      },
      "outputs": [
        {
          "name": "stdout",
          "text": "15\n5\n50\n2.0\n0\n100000\n2\n",
          "output_type": "stream"
        }
      ],
      "execution_count": 8
    },
    {
      "cell_type": "code",
      "source": "num1 = 145\nnum2 = 2\n\nprint(num1 + num2)\nprint(num1 - num2)\nprint(num1 * num2)\nprint(num1 / num2)\nprint(num1 // num2)\nprint(num1 ** num2)\nprint(num1 % num2)",
      "metadata": {
        "trusted": true
      },
      "outputs": [
        {
          "name": "stdout",
          "text": "147\n143\n290\n72.5\n72\n21025\n1\n",
          "output_type": "stream"
        }
      ],
      "execution_count": 11
    },
    {
      "cell_type": "code",
      "source": "# Comparison Operators\nList of Comparison Operators\nOperator\tDescription\t                Example\n==\t        Equal to\t                a == b\n!=\t        Not equal to\t            a != b\n>\t        Greater than\t            a > b\n<\t        Less than\t                a < b\n>=\t        Greater than or equal to\ta >= b\n<=\t        Less than or equal to\t    a <= b",
      "metadata": {
        "trusted": true
      },
      "outputs": [],
      "execution_count": null
    },
    {
      "cell_type": "code",
      "source": "a = 10\nb = 5\n\n# Equal to\nresult = (a == b)\nprint(result)\n\n# Not equal to\nresult = (a != b)\nprint(result)\n\n# Greater than\nresult = (a > b)\nprint(result)\n\n# Less than\nresult = (a < b)\nprint(result)\n\n# Greater than or equal to\nresult = (a >= b)\nprint(result)\n\n# Less than or equal to\nresult = (a <= b)\nprint(result)",
      "metadata": {
        "trusted": true
      },
      "outputs": [
        {
          "name": "stdout",
          "text": "False\nTrue\nTrue\nFalse\nTrue\nFalse\n",
          "output_type": "stream"
        }
      ],
      "execution_count": 10
    },
    {
      "cell_type": "code",
      "source": "a = 90\nb = 50\n\nprint(a == b)\nprint(a < b)\nprint(a > b)\nprint(a >= b)\nprint(a <= b)\nprint(a != b)",
      "metadata": {
        "trusted": true
      },
      "outputs": [
        {
          "name": "stdout",
          "text": "False\nFalse\nTrue\nTrue\nFalse\nTrue\n",
          "output_type": "stream"
        }
      ],
      "execution_count": 12
    },
    {
      "cell_type": "code",
      "source": "# Logical Operators\nList of Logical Operators\nOperator\tDescription\t                                               Example\nand\t        Returns True if both statements are true\t               a and b\nor\t        Returns True if one of the statements is true\t           a or b\nnot\t        Reverses the result, returns False if the result is true   not a",
      "metadata": {
        "trusted": true
      },
      "outputs": [],
      "execution_count": null
    },
    {
      "cell_type": "code",
      "source": "a = True\nb = False\n\n# Logical AND\nresult = a and b\nprint(result)\n\n# Logical OR\nresult = a or b\nprint(result)\n\n# Logical NOT\nresult = not a\nprint(result)",
      "metadata": {
        "trusted": true
      },
      "outputs": [
        {
          "name": "stdout",
          "text": "False\nTrue\nFalse\n",
          "output_type": "stream"
        }
      ],
      "execution_count": 13
    },
    {
      "cell_type": "code",
      "source": "# and\n# left side | right side = result \n#    t           t           t\n#    t           f           f\n#    f           t           f\n#    f           f           f\n\nprint(90 < 89 and 80 != 45)\nprint(56 <= 56 and 78 < 34)\n\n# or \n# left side | right side = result \n#    t           t           t\n#    t           f           t\n#    f           t           t\n#    f           f           f\n\nprint(90 < 89 or 80 != 45)\n\nprint(not 90 == 90)\n",
      "metadata": {
        "trusted": true
      },
      "outputs": [
        {
          "name": "stdout",
          "text": "False\nFalse\nTrue\nFalse\n",
          "output_type": "stream"
        }
      ],
      "execution_count": 18
    },
    {
      "cell_type": "code",
      "source": "# Assignment Operators",
      "metadata": {
        "trusted": true
      },
      "outputs": [],
      "execution_count": null
    },
    {
      "cell_type": "code",
      "source": "name = \"johnny\"\nage = 24\nprint(f\"My name is {name}, I am {age} years old.\")",
      "metadata": {
        "trusted": true
      },
      "outputs": [
        {
          "name": "stdout",
          "text": "My name is johnny, I am 24 years old.\n",
          "output_type": "stream"
        }
      ],
      "execution_count": 2
    },
    {
      "cell_type": "code",
      "source": "x = 10\ny = 5 \n\nprint(f\"The sum of {x} and {y} is {x + y}.\")",
      "metadata": {
        "trusted": true
      },
      "outputs": [
        {
          "name": "stdout",
          "text": "The sum of 10 and 5 is 15.\n",
          "output_type": "stream"
        }
      ],
      "execution_count": 3
    },
    {
      "cell_type": "code",
      "source": "name = \"Pankaj\"\nage = 25\nprint(\"My name is {}, and I am {} years old.\".format(name, age))\nprint(\"My name is {0}, and I am {1} years old. {0} is learning Python.\".format(name, age))\nprint(\"My name is %s, and I am %d years old.\" % (name, age))",
      "metadata": {
        "trusted": true
      },
      "outputs": [
        {
          "name": "stdout",
          "text": "My name is Pankaj, and I am 25 years old.\nMy name is Pankaj, and I am 25 years old. Pankaj is learning Python.\nMy name is Pankaj, and I am 25 years old.\n",
          "output_type": "stream"
        }
      ],
      "execution_count": 4
    },
    {
      "cell_type": "code",
      "source": "pi = 3.14159\nprint(\"The value of pi is approximately %.2f.\" % pi)",
      "metadata": {
        "trusted": true
      },
      "outputs": [
        {
          "name": "stdout",
          "text": "The value of pi is approximately 3.14.\n",
          "output_type": "stream"
        }
      ],
      "execution_count": 5
    },
    {
      "cell_type": "code",
      "source": "name = \"Pankaj\"\nprint(f\"{name:>10}\")",
      "metadata": {
        "trusted": true
      },
      "outputs": [
        {
          "name": "stdout",
          "text": "    Pankaj\n",
          "output_type": "stream"
        }
      ],
      "execution_count": 6
    },
    {
      "cell_type": "code",
      "source": "name = \"Pankaj\"\nprint(f\"{name:<10}\")",
      "metadata": {
        "trusted": true
      },
      "outputs": [
        {
          "name": "stdout",
          "text": "Pankaj    \n",
          "output_type": "stream"
        }
      ],
      "execution_count": 7
    },
    {
      "cell_type": "code",
      "source": "pi = 3.141592653589793\nprint(f\"Value of pi to 3 decimal places: {pi:.3f}\")",
      "metadata": {
        "trusted": true
      },
      "outputs": [
        {
          "name": "stdout",
          "text": "Value of pi to 3 decimal places: 3.142\n",
          "output_type": "stream"
        }
      ],
      "execution_count": 9
    },
    {
      "cell_type": "code",
      "source": "number = 1000000\nprint(f\"Number with commas: {number:,}\")",
      "metadata": {
        "trusted": true
      },
      "outputs": [
        {
          "name": "stdout",
          "text": "Number with commas: 1,000,000\n",
          "output_type": "stream"
        }
      ],
      "execution_count": 10
    },
    {
      "cell_type": "code",
      "source": "name = \"Johnny\"\nage = 21\npi = 3.14159\nprint(f\"Name: {name:<10} Age: {age:<10} Pi: {pi:.2f}\")",
      "metadata": {
        "trusted": true
      },
      "outputs": [
        {
          "name": "stdout",
          "text": "Name: Johnny     Age: 21         Pi: 3.14\n",
          "output_type": "stream"
        }
      ],
      "execution_count": 11
    }
  ]
}