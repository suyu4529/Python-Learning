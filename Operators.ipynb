{
  "metadata": {
    "kernelspec": {
      "name": "python",
      "display_name": "Python (Pyodide)",
      "language": "python"
    },
    "language_info": {
      "codemirror_mode": {
        "name": "python",
        "version": 3
      },
      "file_extension": ".py",
      "mimetype": "text/x-python",
      "name": "python",
      "nbconvert_exporter": "python",
      "pygments_lexer": "ipython3",
      "version": "3.8"
    }
  },
  "nbformat_minor": 4,
  "nbformat": 4,
  "cells": [
    {
      "cell_type": "code",
      "source": "# Arithmetic Operators\nList of Arithmetic Operators\nOperator\t Description\t  Example\n+\t         Addition\t      a + b\n-\t         Subtraction\t  a - b\n*\t         Multiplication\t  a * b\n/\t         Division\t      a / b \n%\t         Modulus\t      a % b  (a is the dividend % b is the divisor and the \"Output\" is the Remainder)\n**\t         Exponentiation\t  a ** b (a is the number to be raised ** b is the power to which the base is raised)\n//\t         Floor Division\t  a // b (a is the dividend // b is the divisor and the \"Output\" is the Quotient)",
      "metadata": {
        "trusted": true
      },
      "outputs": [],
      "execution_count": null
    },
    {
      "cell_type": "code",
      "source": "# Addition\na = 10\nb = 5\nresult = a + b\nprint(result)\n\n# Subtraction\nresult = a - b\nprint(result)\n\n# Multiplication\nresult = a * b\nprint(result)\n\n# Division\nresult = a / b\nprint(result)\n\n# Modulus\nresult = a % b\nprint(result)\n\n# Exponentiation\nresult = a ** b\nprint(result)\n\n# Floor Division\nresult = a // b\nprint(result)",
      "metadata": {
        "trusted": true
      },
      "outputs": [
        {
          "name": "stdout",
          "text": "15\n5\n50\n2.0\n0\n100000\n2\n",
          "output_type": "stream"
        }
      ],
      "execution_count": 8
    },
    {
      "cell_type": "code",
      "source": "num1 = 145\nnum2 = 2\n\nprint(num1 + num2)\nprint(num1 - num2)\nprint(num1 * num2)\nprint(num1 / num2)\nprint(num1 // num2)\nprint(num1 ** num2)\nprint(num1 % num2)",
      "metadata": {
        "trusted": true
      },
      "outputs": [
        {
          "name": "stdout",
          "text": "147\n143\n290\n72.5\n72\n21025\n1\n",
          "output_type": "stream"
        }
      ],
      "execution_count": 11
    },
    {
      "cell_type": "code",
      "source": "# Comparison Operators\nList of Comparison Operators\nOperator\tDescription\t                Example\n==\t        Equal to\t                a == b\n!=\t        Not equal to\t            a != b\n>\t        Greater than\t            a > b\n<\t        Less than\t                a < b\n>=\t        Greater than or equal to\ta >= b\n<=\t        Less than or equal to\t    a <= b",
      "metadata": {
        "trusted": true
      },
      "outputs": [],
      "execution_count": null
    },
    {
      "cell_type": "code",
      "source": "a = 10\nb = 5\n\n# Equal to\nresult = (a == b)\nprint(result)\n\n# Not equal to\nresult = (a != b)\nprint(result)\n\n# Greater than\nresult = (a > b)\nprint(result)\n\n# Less than\nresult = (a < b)\nprint(result)\n\n# Greater than or equal to\nresult = (a >= b)\nprint(result)\n\n# Less than or equal to\nresult = (a <= b)\nprint(result)",
      "metadata": {
        "trusted": true
      },
      "outputs": [
        {
          "name": "stdout",
          "text": "False\nTrue\nTrue\nFalse\nTrue\nFalse\n",
          "output_type": "stream"
        }
      ],
      "execution_count": 10
    },
    {
      "cell_type": "code",
      "source": "a = 90\nb = 50\n\nprint(a == b)\nprint(a < b)\nprint(a > b)\nprint(a >= b)\nprint(a <= b)\nprint(a != b)",
      "metadata": {
        "trusted": true
      },
      "outputs": [
        {
          "name": "stdout",
          "text": "False\nFalse\nTrue\nTrue\nFalse\nTrue\n",
          "output_type": "stream"
        }
      ],
      "execution_count": 12
    },
    {
      "cell_type": "code",
      "source": "# Logical Operators\nList of Logical Operators\nOperator\tDescription\t                                               Example\nand\t        Returns True if both statements are true\t               a and b\nor\t        Returns True if one of the statements is true\t           a or b\nnot\t        Reverses the result, returns False if the result is true   not a",
      "metadata": {
        "trusted": true
      },
      "outputs": [],
      "execution_count": null
    },
    {
      "cell_type": "code",
      "source": "a = True\nb = False\n\n# Logical AND\nresult = a and b\nprint(result)\n\n# Logical OR\nresult = a or b\nprint(result)\n\n# Logical NOT\nresult = not a\nprint(result)",
      "metadata": {
        "trusted": true
      },
      "outputs": [
        {
          "name": "stdout",
          "text": "False\nTrue\nFalse\n",
          "output_type": "stream"
        }
      ],
      "execution_count": 13
    },
    {
      "cell_type": "code",
      "source": "# and\n# left side | right side = result \n#    t           t           t\n#    t           f           f\n#    f           t           f\n#    f           f           f\n\nprint(90 < 89 and 80 != 45)\nprint(56 <= 56 and 78 < 34)\n\n# or \n# left side | right side = result \n#    t           t           t\n#    t           f           t\n#    f           t           t\n#    f           f           f\n\nprint(90 < 89 or 80 != 45)\n\nprint(not 90 == 90)\n",
      "metadata": {
        "trusted": true
      },
      "outputs": [
        {
          "name": "stdout",
          "text": "False\nFalse\nTrue\nFalse\n",
          "output_type": "stream"
        }
      ],
      "execution_count": 18
    }
  ]
}