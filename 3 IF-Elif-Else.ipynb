{
  "metadata": {
    "kernelspec": {
      "name": "python",
      "display_name": "Python (Pyodide)",
      "language": "python"
    },
    "language_info": {
      "codemirror_mode": {
        "name": "python",
        "version": 3
      },
      "file_extension": ".py",
      "mimetype": "text/x-python",
      "name": "python",
      "nbconvert_exporter": "python",
      "pygments_lexer": "ipython3",
      "version": "3.8"
    }
  },
  "nbformat_minor": 4,
  "nbformat": 4,
  "cells": [
    {
      "cell_type": "code",
      "source": "# IF - Elif - Else Condition\n\nif condition1:\n    # block of code to be executed if condition1 is true\nelif condition2:\n    # block of code to be executed if condition2 is true\nelse: condition3:\n    # block of code to be executed if none of the above conditions are true",
      "metadata": {
        "trusted": true
      },
      "outputs": [],
      "execution_count": null
    },
    {
      "cell_type": "code",
      "source": "n1 = 10\nn2 = 4\nn3 = 16\nn4 = 1\n\nif n1 < n2 and n1 < n3 and n1 < n4 :\n    print(\"n1 is smallest\")\nelif n2 < n1 and n2 < n3 and n2 < n4 :\n    print(\"n2 is smallest\")\nelif n3 < n1 and n3 < n2 and n3 < n4 :\n    print(\"n3 is smallest\")\nelse:\n    print(\"n4 is smallest\")",
      "metadata": {
        "trusted": true
      },
      "outputs": [
        {
          "name": "stdout",
          "text": "n4 is smallest\n",
          "output_type": "stream"
        }
      ],
      "execution_count": 1
    },
    {
      "cell_type": "code",
      "source": "a = 10\nb = 7\n\nif a % 2 == 0 :\n    print(\"a is even\")\nelse:\n    print(\"a is odd\")\n\nif b % 2 ==0 :\n    print(\"b is even\")\nelse:\n    print(\"b is odd\")",
      "metadata": {
        "trusted": true
      },
      "outputs": [
        {
          "name": "stdout",
          "text": "a is even\nb is odd\n",
          "output_type": "stream"
        }
      ],
      "execution_count": 2
    },
    {
      "cell_type": "code",
      "source": "Science = 80\nEnglish = 80\nMaths = 75\nMarathi = 35\nHindi = 20\n\ntotal = Science+English+Maths+Marathi+Hindi\nprint(\"Total Marks is = \",total)\n\nper = (total*100/500)\nprint(\"per = \",per)\n\nif per < 100 and per > 95:\n    print(\"Grade : A+\")\nelif per < 94 and per > 90:\n    print(\"Grade : A\")\nelif per < 89 and per > 80:\n    print(\"Grade : B\")\nelif per < 79 and per > 70:\n    print(\"Grade : C\")\nelif per < 69 and per > 60:\n    print(\"Grade : D\")\nelif per < 59 and per > 50:\n    print(\"Grade : E\")",
      "metadata": {
        "trusted": true
      },
      "outputs": [
        {
          "name": "stdout",
          "text": "Total Marks is =  290\nper =  58.0\nGrade : E\n",
          "output_type": "stream"
        }
      ],
      "execution_count": 4
    },
    {
      "cell_type": "code",
      "source": "Science = 25\nEnglish = 45\nMarathi = 35\nMaths = 35\nHindi = 45\nHistory = 35\nGeography = 40\n\ntotal = Science+English+Marathi+Maths+Hindi+History+Geography\nprint(\"Total Marks Obtained = \" , total)\n\nper = (total*100/700)\nprint(\"Percentage = \" , per)\n\nif per < 100 and per > 95:\n    print(\"Grade : A+\")\nelif per < 94 and per > 80:\n    print(\"Grade : A\")\nelif per < 79 and per > 70:\n    print(\"Grade : B\")\nelif per < 69 and per > 60:\n    print(\"Grade : C\")\nelif per < 59 and per > 50:\n    print(\"Grade : D\")\nelif per < 49 and per > 40:\n    print(\"Grade : E\")\nelse:\n    print(\"Grade : Fail\")",
      "metadata": {
        "trusted": true
      },
      "outputs": [
        {
          "name": "stdout",
          "text": "Total Marks Obtained =  260\nPercentage =  37.142857142857146\nGrade : Fail\n",
          "output_type": "stream"
        }
      ],
      "execution_count": 1
    },
    {
      "cell_type": "code",
      "source": "a = 10\nb = 15\n\nif a > b:\n    print(\"10 is greater than 15\")\nelse:\n    print(\"15 is greater than 10\")",
      "metadata": {
        "trusted": true
      },
      "outputs": [
        {
          "name": "stdout",
          "text": "15 is greater than 10\n",
          "output_type": "stream"
        }
      ],
      "execution_count": 2
    },
    {
      "cell_type": "code",
      "source": "year = 2024\n\nif (year % 400 == 0) and (year % 100 == 0):\n    print(\"{0} is a leap year\".format(year))\nelif (year % 4 == 0) and (year % 100 != 0):\n    print(\"{0} is a leap year\".format(year))\nelse:\n    print(\"{0} is not a leap year\".format(year))",
      "metadata": {
        "trusted": true
      },
      "outputs": [
        {
          "name": "stdout",
          "text": "2024 is a leap year\n",
          "output_type": "stream"
        }
      ],
      "execution_count": 3
    },
    {
      "cell_type": "code",
      "source": "a = -7\n\nif a > 0 and a < 100:\n    print(\"(a) is a positive number\" . format(a))\nelif a <0 and a > -100:\n    print(\"(a) is a negative number\" . format(a))",
      "metadata": {
        "trusted": true
      },
      "outputs": [
        {
          "name": "stdout",
          "text": "(a) is a negative number\n",
          "output_type": "stream"
        }
      ],
      "execution_count": 4
    },
    {
      "cell_type": "code",
      "source": "",
      "metadata": {
        "trusted": true
      },
      "outputs": [],
      "execution_count": null
    }
  ]
}